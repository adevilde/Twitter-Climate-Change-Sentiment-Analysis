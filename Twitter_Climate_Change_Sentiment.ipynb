{
 "cells": [
  {
   "cell_type": "markdown",
   "metadata": {},
   "source": [
    "### Machine Learning Project - **Alice DEVILDER**"
   ]
  },
  {
   "cell_type": "markdown",
   "metadata": {},
   "source": [
    "# Twitter Climate Change Sentiment Analysis\n",
    "\n",
    "This project focuses on the sentiment analysis of tweets related to climate change by building and comparing machine learning models to classify whether a person believes in climate change based on novel tweet data. \n",
    "The dataset used for this analysis was collected as part of a project funded by *a Canada Foundation for Innovation JELF Grant* awarded to **Chris Bauch** at the *University of Waterloo*.  \n",
    "It corresponds to the [Twitter Climate Change Sentiment Dataset](https://www.kaggle.com/datasets/edqian/twitter-climate-change-sentiment-dataset) from Kaggle ."
   ]
  },
  {
   "cell_type": "markdown",
   "metadata": {},
   "source": [
    "### Some context\n",
    "\n",
    "Climate change remains a topic of significant global concern, prompting ongoing discussions and debates on social media platforms like Twitter. With the proliferation of climate-related content online, distinguishing between different perspectives and attitudes towards climate change is crucial for understanding public sentiment and informing policy decisions.\n",
    "\n",
    "Twitter serves as a valuable source of real-time data reflecting diverse viewpoints on climate change, ranging from support for climate action to skepticism or denial of its existence. By leveraging machine learning techniques, this project aims to analyze and classify tweet sentiments to discern whether individuals express belief or disbelief in climate change.\n",
    "\n",
    "In this dynamic digital landscape, the ability to accurately classify tweet sentiments offers valuable insights into public perceptions and attitudes towards climate change. By building and comparing machine learning models, this project seeks to enhance our understanding of the nuanced discourse surrounding climate change on social media platforms like Twitter."
   ]
  },
  {
   "cell_type": "markdown",
   "metadata": {},
   "source": [
    "### About Dataset\n",
    "\n",
    "The dataset aggregates tweets pertaining to climate change collected between *April 27, 2015*, and *February 21, 2018*. A total of **43,943 tweets** were annotated for sentiment analysis. Each tweet is independently labelled by three reviewers, and only tweets where all three reviewers agreed on the sentiment are included in the dataset.\n",
    "\n",
    "Each tweet is labelled with one of the following classes:\n",
    "\n",
    "* **2 (News):** The tweet links to factual news about climate change.\n",
    "* **1 (Pro):** The tweet supports the belief of man-made climate change.\n",
    "* **0 (Neutral):** The tweet neither supports nor refutes the belief of man-made climate change.\n",
    "* **-1 (Anti):** The tweet does not believe in man-made climate change.\n",
    "\n",
    "Moreover, the dataset includes three columns:\n",
    "\n",
    "**sentiment:** The sentiment label of the tweet.  \n",
    "**message:** The text content of the tweet.  \n",
    "**tweetid:** The unique identifier of the tweet."
   ]
  },
  {
   "cell_type": "markdown",
   "metadata": {},
   "source": [
    "### Project Objective\n",
    "\n",
    "The project objective is to build and compare machine learning models to classify whether a person believes in climate change based on novel tweet data. By leveraging the dataset collected as part of the Canada Foundation for Innovation JELF Grant, the aim is to develop robust classification algorithms that accurately distinguish between different perspectives on climate change expressed in tweets. The project seeks to evaluate the performance of various machine learning techniques and identify the most effective model for sentiment analysis of climate change-related tweets on Twitter."
   ]
  },
  {
   "cell_type": "markdown",
   "metadata": {},
   "source": [
    "## Import librairies and dataset"
   ]
  },
  {
   "cell_type": "code",
   "execution_count": 98,
   "metadata": {},
   "outputs": [
    {
     "name": "stderr",
     "output_type": "stream",
     "text": [
      "[nltk_data] Downloading package punkt to\n",
      "[nltk_data]     C:\\Users\\alice\\AppData\\Roaming\\nltk_data...\n",
      "[nltk_data]   Package punkt is already up-to-date!\n"
     ]
    }
   ],
   "source": [
    "import re\n",
    "import nltk\n",
    "nltk.download('punkt')\n",
    "import string\n",
    "\n",
    "import numpy as np\n",
    "import pandas as pd\n",
    "import matplotlib.pyplot as plt\n",
    "\n",
    "from tqdm.auto import tqdm"
   ]
  },
  {
   "cell_type": "markdown",
   "metadata": {},
   "source": [
    "We can first import the dataset and how it looks like."
   ]
  },
  {
   "cell_type": "code",
   "execution_count": 99,
   "metadata": {},
   "outputs": [],
   "source": [
    "df = pd.read_csv('twitter_sentiment_data.csv')"
   ]
  },
  {
   "cell_type": "markdown",
   "metadata": {},
   "source": [
    "## 1. Data Cleansing "
   ]
  },
  {
   "cell_type": "markdown",
   "metadata": {},
   "source": [
    "Let's see how the dataset looks like using ```df.head(10)```."
   ]
  },
  {
   "cell_type": "code",
   "execution_count": 100,
   "metadata": {},
   "outputs": [
    {
     "data": {
      "text/html": [
       "<div>\n",
       "<style scoped>\n",
       "    .dataframe tbody tr th:only-of-type {\n",
       "        vertical-align: middle;\n",
       "    }\n",
       "\n",
       "    .dataframe tbody tr th {\n",
       "        vertical-align: top;\n",
       "    }\n",
       "\n",
       "    .dataframe thead th {\n",
       "        text-align: right;\n",
       "    }\n",
       "</style>\n",
       "<table border=\"1\" class=\"dataframe\">\n",
       "  <thead>\n",
       "    <tr style=\"text-align: right;\">\n",
       "      <th></th>\n",
       "      <th>sentiment</th>\n",
       "      <th>message</th>\n",
       "      <th>tweetid</th>\n",
       "    </tr>\n",
       "  </thead>\n",
       "  <tbody>\n",
       "    <tr>\n",
       "      <th>0</th>\n",
       "      <td>-1</td>\n",
       "      <td>@tiniebeany climate change is an interesting h...</td>\n",
       "      <td>792927353886371840</td>\n",
       "    </tr>\n",
       "    <tr>\n",
       "      <th>1</th>\n",
       "      <td>1</td>\n",
       "      <td>RT @NatGeoChannel: Watch #BeforeTheFlood right...</td>\n",
       "      <td>793124211518832641</td>\n",
       "    </tr>\n",
       "    <tr>\n",
       "      <th>2</th>\n",
       "      <td>1</td>\n",
       "      <td>Fabulous! Leonardo #DiCaprio's film on #climat...</td>\n",
       "      <td>793124402388832256</td>\n",
       "    </tr>\n",
       "    <tr>\n",
       "      <th>3</th>\n",
       "      <td>1</td>\n",
       "      <td>RT @Mick_Fanning: Just watched this amazing do...</td>\n",
       "      <td>793124635873275904</td>\n",
       "    </tr>\n",
       "    <tr>\n",
       "      <th>4</th>\n",
       "      <td>2</td>\n",
       "      <td>RT @cnalive: Pranita Biswasi, a Lutheran from ...</td>\n",
       "      <td>793125156185137153</td>\n",
       "    </tr>\n",
       "    <tr>\n",
       "      <th>5</th>\n",
       "      <td>0</td>\n",
       "      <td>Unamshow awache kujinga na iko global warming ...</td>\n",
       "      <td>793125429418815489</td>\n",
       "    </tr>\n",
       "    <tr>\n",
       "      <th>6</th>\n",
       "      <td>2</td>\n",
       "      <td>RT @cnalive: Pranita Biswasi, a Lutheran from ...</td>\n",
       "      <td>793125430236684289</td>\n",
       "    </tr>\n",
       "    <tr>\n",
       "      <th>7</th>\n",
       "      <td>2</td>\n",
       "      <td>RT @CCIRiviera: Presidential Candidate #Donald...</td>\n",
       "      <td>793126558688878592</td>\n",
       "    </tr>\n",
       "    <tr>\n",
       "      <th>8</th>\n",
       "      <td>0</td>\n",
       "      <td>RT @AmericanIndian8: Leonardo DiCaprio's clima...</td>\n",
       "      <td>793127097854197761</td>\n",
       "    </tr>\n",
       "    <tr>\n",
       "      <th>9</th>\n",
       "      <td>1</td>\n",
       "      <td>#BeforeTheFlood Watch #BeforeTheFlood right he...</td>\n",
       "      <td>793127346106753028</td>\n",
       "    </tr>\n",
       "  </tbody>\n",
       "</table>\n",
       "</div>"
      ],
      "text/plain": [
       "   sentiment                                            message  \\\n",
       "0         -1  @tiniebeany climate change is an interesting h...   \n",
       "1          1  RT @NatGeoChannel: Watch #BeforeTheFlood right...   \n",
       "2          1  Fabulous! Leonardo #DiCaprio's film on #climat...   \n",
       "3          1  RT @Mick_Fanning: Just watched this amazing do...   \n",
       "4          2  RT @cnalive: Pranita Biswasi, a Lutheran from ...   \n",
       "5          0  Unamshow awache kujinga na iko global warming ...   \n",
       "6          2  RT @cnalive: Pranita Biswasi, a Lutheran from ...   \n",
       "7          2  RT @CCIRiviera: Presidential Candidate #Donald...   \n",
       "8          0  RT @AmericanIndian8: Leonardo DiCaprio's clima...   \n",
       "9          1  #BeforeTheFlood Watch #BeforeTheFlood right he...   \n",
       "\n",
       "              tweetid  \n",
       "0  792927353886371840  \n",
       "1  793124211518832641  \n",
       "2  793124402388832256  \n",
       "3  793124635873275904  \n",
       "4  793125156185137153  \n",
       "5  793125429418815489  \n",
       "6  793125430236684289  \n",
       "7  793126558688878592  \n",
       "8  793127097854197761  \n",
       "9  793127346106753028  "
      ]
     },
     "execution_count": 100,
     "metadata": {},
     "output_type": "execute_result"
    }
   ],
   "source": [
    "df.head(10)"
   ]
  },
  {
   "cell_type": "markdown",
   "metadata": {},
   "source": [
    "Then we can also have some information about the dataset by calling ```df.info```, such as ncol, nrow, nbr missing values, dtypes."
   ]
  },
  {
   "cell_type": "code",
   "execution_count": 101,
   "metadata": {},
   "outputs": [
    {
     "name": "stdout",
     "output_type": "stream",
     "text": [
      "<class 'pandas.core.frame.DataFrame'>\n",
      "RangeIndex: 43943 entries, 0 to 43942\n",
      "Data columns (total 3 columns):\n",
      " #   Column     Non-Null Count  Dtype \n",
      "---  ------     --------------  ----- \n",
      " 0   sentiment  43943 non-null  int64 \n",
      " 1   message    43943 non-null  object\n",
      " 2   tweetid    43943 non-null  int64 \n",
      "dtypes: int64(2), object(1)\n",
      "memory usage: 1.0+ MB\n"
     ]
    }
   ],
   "source": [
    "# Get general information on the dataset (ncol, nrow, nbr missing values, dtypes)\n",
    "df.info()"
   ]
  },
  {
   "cell_type": "markdown",
   "metadata": {},
   "source": [
    "This dataset has **43943** entries and **3** columns: **sentiment**, **message** and **tweetid**."
   ]
  },
  {
   "cell_type": "markdown",
   "metadata": {},
   "source": [
    "Let's see now if there are some nan values and duplicates. "
   ]
  },
  {
   "cell_type": "code",
   "execution_count": 102,
   "metadata": {},
   "outputs": [
    {
     "data": {
      "text/plain": [
       "sentiment    0\n",
       "message      0\n",
       "tweetid      0\n",
       "dtype: int64"
      ]
     },
     "execution_count": 102,
     "metadata": {},
     "output_type": "execute_result"
    }
   ],
   "source": [
    "pd.isnull(df).sum()"
   ]
  },
  {
   "cell_type": "code",
   "execution_count": 93,
   "metadata": {},
   "outputs": [
    {
     "name": "stdout",
     "output_type": "stream",
     "text": [
      "There are 2902 duplicates in the dataset. So we will remove them. \n",
      "\n",
      "Duplicates removed. Now, the dataset has 41041 rows. \n",
      "\n",
      "Checking for messages with the same content but different sentiment... \n",
      "\n"
     ]
    },
    {
     "data": {
      "text/html": [
       "<div>\n",
       "<style scoped>\n",
       "    .dataframe tbody tr th:only-of-type {\n",
       "        vertical-align: middle;\n",
       "    }\n",
       "\n",
       "    .dataframe tbody tr th {\n",
       "        vertical-align: top;\n",
       "    }\n",
       "\n",
       "    .dataframe thead th {\n",
       "        text-align: right;\n",
       "    }\n",
       "</style>\n",
       "<table border=\"1\" class=\"dataframe\">\n",
       "  <thead>\n",
       "    <tr style=\"text-align: right;\">\n",
       "      <th></th>\n",
       "      <th>sentiment</th>\n",
       "      <th>message</th>\n",
       "      <th>tweetid</th>\n",
       "    </tr>\n",
       "  </thead>\n",
       "  <tbody>\n",
       "    <tr>\n",
       "      <th>55</th>\n",
       "      <td>2</td>\n",
       "      <td>RT @ABCPolitics: .@realDonaldTrump vows to can...</td>\n",
       "      <td>793151228498866176</td>\n",
       "    </tr>\n",
       "    <tr>\n",
       "      <th>168</th>\n",
       "      <td>1</td>\n",
       "      <td>RT @ABCPolitics: .@realDonaldTrump vows to can...</td>\n",
       "      <td>793216460524888064</td>\n",
       "    </tr>\n",
       "    <tr>\n",
       "      <th>7122</th>\n",
       "      <td>0</td>\n",
       "      <td>RT @AngelicaJoy__: It's so nice out LOL global...</td>\n",
       "      <td>800125205653897216</td>\n",
       "    </tr>\n",
       "    <tr>\n",
       "      <th>7817</th>\n",
       "      <td>1</td>\n",
       "      <td>RT @AngelicaJoy__: It's so nice out LOL global...</td>\n",
       "      <td>802590953777364992</td>\n",
       "    </tr>\n",
       "    <tr>\n",
       "      <th>4438</th>\n",
       "      <td>0</td>\n",
       "      <td>RT @AssaadRazzouk: In the new new world, China...</td>\n",
       "      <td>797651999395368960</td>\n",
       "    </tr>\n",
       "    <tr>\n",
       "      <th>4482</th>\n",
       "      <td>1</td>\n",
       "      <td>RT @AssaadRazzouk: In the new new world, China...</td>\n",
       "      <td>797706914226376704</td>\n",
       "    </tr>\n",
       "    <tr>\n",
       "      <th>129</th>\n",
       "      <td>0</td>\n",
       "      <td>RT @COP22: In 4 days the most ambitious climat...</td>\n",
       "      <td>793197191443603456</td>\n",
       "    </tr>\n",
       "    <tr>\n",
       "      <th>307</th>\n",
       "      <td>1</td>\n",
       "      <td>RT @COP22: In 4 days the most ambitious climat...</td>\n",
       "      <td>793308788627570688</td>\n",
       "    </tr>\n",
       "    <tr>\n",
       "      <th>2012</th>\n",
       "      <td>2</td>\n",
       "      <td>RT @Channel4News: .@LeoDiCaprio calls on citiz...</td>\n",
       "      <td>795560731609546752</td>\n",
       "    </tr>\n",
       "    <tr>\n",
       "      <th>2056</th>\n",
       "      <td>1</td>\n",
       "      <td>RT @Channel4News: .@LeoDiCaprio calls on citiz...</td>\n",
       "      <td>795619506844336128</td>\n",
       "    </tr>\n",
       "    <tr>\n",
       "      <th>3863</th>\n",
       "      <td>0</td>\n",
       "      <td>RT @JeffreyGuterman: #Trump has selected Myron...</td>\n",
       "      <td>797100540853358592</td>\n",
       "    </tr>\n",
       "    <tr>\n",
       "      <th>4230</th>\n",
       "      <td>1</td>\n",
       "      <td>RT @JeffreyGuterman: #Trump has selected Myron...</td>\n",
       "      <td>797399603708456960</td>\n",
       "    </tr>\n",
       "    <tr>\n",
       "      <th>1015</th>\n",
       "      <td>0</td>\n",
       "      <td>RT @Uniocracy: They'll tell you theyre doing i...</td>\n",
       "      <td>793913627552120833</td>\n",
       "    </tr>\n",
       "    <tr>\n",
       "      <th>8533</th>\n",
       "      <td>-1</td>\n",
       "      <td>RT @Uniocracy: They'll tell you theyre doing i...</td>\n",
       "      <td>806723164554207234</td>\n",
       "    </tr>\n",
       "    <tr>\n",
       "      <th>2735</th>\n",
       "      <td>0</td>\n",
       "      <td>RT @realDonaldTrump: Where the hell is global ...</td>\n",
       "      <td>796293320783826945</td>\n",
       "    </tr>\n",
       "    <tr>\n",
       "      <th>10876</th>\n",
       "      <td>-1</td>\n",
       "      <td>RT @realDonaldTrump: Where the hell is global ...</td>\n",
       "      <td>818685360792289280</td>\n",
       "    </tr>\n",
       "  </tbody>\n",
       "</table>\n",
       "</div>"
      ],
      "text/plain": [
       "       sentiment                                            message  \\\n",
       "55             2  RT @ABCPolitics: .@realDonaldTrump vows to can...   \n",
       "168            1  RT @ABCPolitics: .@realDonaldTrump vows to can...   \n",
       "7122           0  RT @AngelicaJoy__: It's so nice out LOL global...   \n",
       "7817           1  RT @AngelicaJoy__: It's so nice out LOL global...   \n",
       "4438           0  RT @AssaadRazzouk: In the new new world, China...   \n",
       "4482           1  RT @AssaadRazzouk: In the new new world, China...   \n",
       "129            0  RT @COP22: In 4 days the most ambitious climat...   \n",
       "307            1  RT @COP22: In 4 days the most ambitious climat...   \n",
       "2012           2  RT @Channel4News: .@LeoDiCaprio calls on citiz...   \n",
       "2056           1  RT @Channel4News: .@LeoDiCaprio calls on citiz...   \n",
       "3863           0  RT @JeffreyGuterman: #Trump has selected Myron...   \n",
       "4230           1  RT @JeffreyGuterman: #Trump has selected Myron...   \n",
       "1015           0  RT @Uniocracy: They'll tell you theyre doing i...   \n",
       "8533          -1  RT @Uniocracy: They'll tell you theyre doing i...   \n",
       "2735           0  RT @realDonaldTrump: Where the hell is global ...   \n",
       "10876         -1  RT @realDonaldTrump: Where the hell is global ...   \n",
       "\n",
       "                  tweetid  \n",
       "55     793151228498866176  \n",
       "168    793216460524888064  \n",
       "7122   800125205653897216  \n",
       "7817   802590953777364992  \n",
       "4438   797651999395368960  \n",
       "4482   797706914226376704  \n",
       "129    793197191443603456  \n",
       "307    793308788627570688  \n",
       "2012   795560731609546752  \n",
       "2056   795619506844336128  \n",
       "3863   797100540853358592  \n",
       "4230   797399603708456960  \n",
       "1015   793913627552120833  \n",
       "8533   806723164554207234  \n",
       "2735   796293320783826945  \n",
       "10876  818685360792289280  "
      ]
     },
     "execution_count": 93,
     "metadata": {},
     "output_type": "execute_result"
    }
   ],
   "source": [
    "print(\"There are\", df.duplicated(['message', 'sentiment']).sum(), \"duplicates in the dataset. So we will remove them. \\n\")\n",
    "\n",
    "df = df.drop_duplicates(['message','sentiment'])\n",
    "print(\"Duplicates removed. Now, the dataset has\", df.shape[0], \"rows. \\n\")\n",
    "\n",
    "# Check if there are messages with the same content but different sentiment\n",
    "print(\"Checking for messages with the same content but different sentiment... \\n\")\n",
    "\n",
    "duplicates = df[df.duplicated(['message'], keep=False)].sort_values(by=['message'])\n",
    "duplicates"
   ]
  },
  {
   "cell_type": "markdown",
   "metadata": {},
   "source": [
    "As they don't have the sentiment, if we drop these duplicates, we will loose some information about the sentiment. Therefore we will keep them."
   ]
  },
  {
   "cell_type": "markdown",
   "metadata": {},
   "source": [
    "The dataset is clean! There is no null value and no duplicate. We can now move on to the preprocessing part. "
   ]
  },
  {
   "cell_type": "markdown",
   "metadata": {},
   "source": [
    "### Some analysis of the dataset"
   ]
  },
  {
   "cell_type": "code",
   "execution_count": 94,
   "metadata": {},
   "outputs": [
    {
     "data": {
      "text/html": [
       "<div>\n",
       "<style scoped>\n",
       "    .dataframe tbody tr th:only-of-type {\n",
       "        vertical-align: middle;\n",
       "    }\n",
       "\n",
       "    .dataframe tbody tr th {\n",
       "        vertical-align: top;\n",
       "    }\n",
       "\n",
       "    .dataframe thead th {\n",
       "        text-align: right;\n",
       "    }\n",
       "</style>\n",
       "<table border=\"1\" class=\"dataframe\">\n",
       "  <thead>\n",
       "    <tr style=\"text-align: right;\">\n",
       "      <th></th>\n",
       "      <th>sentiment</th>\n",
       "      <th>message</th>\n",
       "      <th>tweetid</th>\n",
       "    </tr>\n",
       "  </thead>\n",
       "  <tbody>\n",
       "    <tr>\n",
       "      <th>9854</th>\n",
       "      <td>0</td>\n",
       "      <td>RT @TheRoadbeer: After being stuck in my menti...</td>\n",
       "      <td>811305641658777600</td>\n",
       "    </tr>\n",
       "    <tr>\n",
       "      <th>5093</th>\n",
       "      <td>1</td>\n",
       "      <td>@Bruciebabe @guardiannews so much science to p...</td>\n",
       "      <td>798192940703059968</td>\n",
       "    </tr>\n",
       "    <tr>\n",
       "      <th>21224</th>\n",
       "      <td>0</td>\n",
       "      <td>Uhhhhhh oh, now they are teaching us about glo...</td>\n",
       "      <td>866077121810235396</td>\n",
       "    </tr>\n",
       "    <tr>\n",
       "      <th>1274</th>\n",
       "      <td>1</td>\n",
       "      <td>If u aint concerned with global warming my nig...</td>\n",
       "      <td>794266304303734784</td>\n",
       "    </tr>\n",
       "    <tr>\n",
       "      <th>1618</th>\n",
       "      <td>1</td>\n",
       "      <td>@grouch_ass @RalstonReports that's like saying...</td>\n",
       "      <td>794914590324879360</td>\n",
       "    </tr>\n",
       "    <tr>\n",
       "      <th>29734</th>\n",
       "      <td>0</td>\n",
       "      <td>RT @ianderickson: New @PatriarchyShow\\nWe were...</td>\n",
       "      <td>949252491417407488</td>\n",
       "    </tr>\n",
       "    <tr>\n",
       "      <th>28311</th>\n",
       "      <td>1</td>\n",
       "      <td>Game 1 World Series (in LA): 103 degrees. \\nGa...</td>\n",
       "      <td>925518373047414784</td>\n",
       "    </tr>\n",
       "    <tr>\n",
       "      <th>40306</th>\n",
       "      <td>-1</td>\n",
       "      <td>RT @KurtSchlichter: Socialist announces that h...</td>\n",
       "      <td>683795681421611008</td>\n",
       "    </tr>\n",
       "    <tr>\n",
       "      <th>9774</th>\n",
       "      <td>1</td>\n",
       "      <td>@wfaachannel8 @David_in_Dallas this global war...</td>\n",
       "      <td>810717041166385152</td>\n",
       "    </tr>\n",
       "    <tr>\n",
       "      <th>12227</th>\n",
       "      <td>1</td>\n",
       "      <td>@realDonaldTrump climate change is real like tbh</td>\n",
       "      <td>824815393285894144</td>\n",
       "    </tr>\n",
       "  </tbody>\n",
       "</table>\n",
       "</div>"
      ],
      "text/plain": [
       "       sentiment                                            message  \\\n",
       "9854           0  RT @TheRoadbeer: After being stuck in my menti...   \n",
       "5093           1  @Bruciebabe @guardiannews so much science to p...   \n",
       "21224          0  Uhhhhhh oh, now they are teaching us about glo...   \n",
       "1274           1  If u aint concerned with global warming my nig...   \n",
       "1618           1  @grouch_ass @RalstonReports that's like saying...   \n",
       "29734          0  RT @ianderickson: New @PatriarchyShow\\nWe were...   \n",
       "28311          1  Game 1 World Series (in LA): 103 degrees. \\nGa...   \n",
       "40306         -1  RT @KurtSchlichter: Socialist announces that h...   \n",
       "9774           1  @wfaachannel8 @David_in_Dallas this global war...   \n",
       "12227          1   @realDonaldTrump climate change is real like tbh   \n",
       "\n",
       "                  tweetid  \n",
       "9854   811305641658777600  \n",
       "5093   798192940703059968  \n",
       "21224  866077121810235396  \n",
       "1274   794266304303734784  \n",
       "1618   794914590324879360  \n",
       "29734  949252491417407488  \n",
       "28311  925518373047414784  \n",
       "40306  683795681421611008  \n",
       "9774   810717041166385152  \n",
       "12227  824815393285894144  "
      ]
     },
     "execution_count": 94,
     "metadata": {},
     "output_type": "execute_result"
    }
   ],
   "source": [
    "df.sample(10)"
   ]
  },
  {
   "cell_type": "markdown",
   "metadata": {},
   "source": [
    "Looking at a sample of 10 rows of the data we can observe and make the following assumptions:\n",
    "\n",
    "* Some tweets contain twitter handles (e.g @IEA), numbers (e.g year 1995), hashtags (e.g #BeforeTheFlood) and re-tweets (RT).\n",
    "* Some tweets contain names of ogarnisations, continents and countries.\n",
    "* New lines are represented by '\\n' in the tweet string.\n",
    "* The tweets may contain URLs.\n",
    "* The tweets may contain percetages, money symbols and emoticons.\n",
    "\n",
    "Let's check that."
   ]
  },
  {
   "cell_type": "code",
   "execution_count": 95,
   "metadata": {},
   "outputs": [
    {
     "name": "stdout",
     "output_type": "stream",
     "text": [
      "Number of @ contained in the tweets: 28300\n",
      "Number of # contained in the tweets: 7931 \n",
      "\n"
     ]
    },
    {
     "name": "stdout",
     "output_type": "stream",
     "text": [
      "Number of url contained in the tweets: 24665\n",
      "Number of new lines contained in the tweets: 3794\n",
      "Number of re-tweets (RT) contained in the tweets: 22348 \n",
      "\n",
      "There are 1088 emojis in the tweets such as: [['👀', '👍🏼'], ['👇👇'], ['✔︎', '✔︎', '✔︎', '✔︎'], ['☄', '⛱'], ['😳'], ['🌍', '💀'], ['🖐'], ['😮'], ['😳'], ['👏🏽', '👏🏽', '👏🏽']]\n"
     ]
    }
   ],
   "source": [
    "print(\"Number of @ contained in the tweets:\", df['message'].str.contains('@').sum())\n",
    "print(\"Number of # contained in the tweets:\", df['message'].str.contains('#').sum(), \"\\n\")\n",
    "\n",
    "print(\"Number of url contained in the tweets:\", df['message'].str.contains('http').sum())\n",
    "print(\"Number of new lines contained in the tweets:\", df['message'].str.contains('\\n').sum())\n",
    "print(\"Number of re-tweets (RT) contained in the tweets:\", df['message'].str.contains('RT').sum(), \"\\n\")\n",
    "\n",
    "# Check if there are emojis in the tweets\n",
    "def find_emojis(text):\n",
    "    emoji_pattern = re.compile(\"[\"\n",
    "                               u\"\\U0001F600-\\U0001F64F\"  # emoticons\n",
    "                               u\"\\U0001F300-\\U0001F5FF\"  # symbols & pictographs\n",
    "                               u\"\\U0001F680-\\U0001F6FF\"  # transport & map symbols\n",
    "                               u\"\\U0001F1E0-\\U0001F1FF\"  # flags (iOS)\n",
    "                               u\"\\U00002702-\\U000027B0\"\n",
    "                               u\"\\U000024C2-\\U0001F251\"\n",
    "                               \"]+\", flags=re.UNICODE)\n",
    "    return emoji_pattern.findall(text)\n",
    "\n",
    "emojis = df['message'].apply(find_emojis)\n",
    "emojis = [e for e in emojis if e != []]\n",
    "print(\"There are\", len(emojis),\"emojis in the tweets such as:\", emojis[:10])\n"
   ]
  },
  {
   "cell_type": "markdown",
   "metadata": {},
   "source": [
    "### Before doing some preprocessing, let's see the **Distribution Of The Target Variable**"
   ]
  },
  {
   "cell_type": "code",
   "execution_count": 96,
   "metadata": {},
   "outputs": [
    {
     "data": {
      "text/html": [
       "<div>\n",
       "<style scoped>\n",
       "    .dataframe tbody tr th:only-of-type {\n",
       "        vertical-align: middle;\n",
       "    }\n",
       "\n",
       "    .dataframe tbody tr th {\n",
       "        vertical-align: top;\n",
       "    }\n",
       "\n",
       "    .dataframe thead th {\n",
       "        text-align: right;\n",
       "    }\n",
       "</style>\n",
       "<table border=\"1\" class=\"dataframe\">\n",
       "  <thead>\n",
       "    <tr style=\"text-align: right;\">\n",
       "      <th></th>\n",
       "      <th>Count</th>\n",
       "    </tr>\n",
       "  </thead>\n",
       "  <tbody>\n",
       "    <tr>\n",
       "      <th>Pro</th>\n",
       "      <td>20605</td>\n",
       "    </tr>\n",
       "    <tr>\n",
       "      <th>News</th>\n",
       "      <td>9073</td>\n",
       "    </tr>\n",
       "    <tr>\n",
       "      <th>Neutral</th>\n",
       "      <td>7505</td>\n",
       "    </tr>\n",
       "    <tr>\n",
       "      <th>Anti</th>\n",
       "      <td>3858</td>\n",
       "    </tr>\n",
       "  </tbody>\n",
       "</table>\n",
       "</div>"
      ],
      "text/plain": [
       "         Count\n",
       "Pro      20605\n",
       "News      9073\n",
       "Neutral   7505\n",
       "Anti      3858"
      ]
     },
     "execution_count": 96,
     "metadata": {},
     "output_type": "execute_result"
    }
   ],
   "source": [
    "# Create class distribution dataframe\n",
    "class_distribution = pd.DataFrame(list(df['sentiment'].value_counts()), index = ['Pro', 'News', 'Neutral', 'Anti'], columns = ['Count'])\n",
    "class_distribution.head()\n",
    "    "
   ]
  },
  {
   "cell_type": "code",
   "execution_count": 97,
   "metadata": {},
   "outputs": [
    {
     "data": {
      "image/png": "[encoded data removed]",
      "text/plain": [
       "<Figure size 640x480 with 1 Axes>"
      ]
     },
     "metadata": {},
     "output_type": "display_data"
    }
   ],
   "source": [
    "# Plot class distribution\n",
    "plt.bar(class_distribution.index, class_distribution['Count'], color = 'skyblue')\n",
    "plt.title('Class Distribution')\n",
    "plt.xlabel('Sentiment')\n",
    "plt.ylabel('Count')\n",
    "plt.show()"
   ]
  },
  {
   "cell_type": "markdown",
   "metadata": {},
   "source": [
    "We can notice that amongst this dataset, more than half of the tweeter message are classified as **Pro** which means that half of the tweets supports the belief of man-made climate change. "
   ]
  },
  {
   "cell_type": "code",
   "execution_count": null,
   "metadata": {},
   "outputs": [],
   "source": []
  }
 ],
 "metadata": {
  "kernelspec": {
   "display_name": "Python 3",
   "language": "python",
   "name": "python3"
  },
  "language_info": {
   "codemirror_mode": {
    "name": "ipython",
    "version": 3
   },
   "file_extension": ".py",
   "mimetype": "text/x-python",
   "name": "python",
   "nbconvert_exporter": "python",
   "pygments_lexer": "ipython3",
   "version": "3.10.5"
  }
 },
 "nbformat": 4,
 "nbformat_minor": 2
}
