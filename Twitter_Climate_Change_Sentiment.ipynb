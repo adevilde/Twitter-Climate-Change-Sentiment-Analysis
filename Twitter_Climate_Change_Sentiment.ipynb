{
 "cells": [
  {
   "cell_type": "markdown",
   "metadata": {},
   "source": [
    "### Machine Learning Project - **Alice DEVILDER**"
   ]
  },
  {
   "cell_type": "markdown",
   "metadata": {},
   "source": [
    "# Twitter Climate Change Sentiment Analysis\n",
    "\n",
    "This project focuses on the sentiment analysis of tweets related to climate change by building and comparing machine learning models to classify whether a person believes in climate change based on novel tweet data. \n",
    "The dataset used for this analysis was collected as part of a project funded by *a Canada Foundation for Innovation JELF Grant* awarded to **Chris Bauch** at the *University of Waterloo*.  \n",
    "It corresponds to the [Twitter Climate Change Sentiment Dataset](https://www.kaggle.com/datasets/edqian/twitter-climate-change-sentiment-dataset) from Kaggle ."
   ]
  },
  {
   "cell_type": "markdown",
   "metadata": {},
   "source": [
    "### Some context\n",
    "\n",
    "Climate change remains a topic of significant global concern, prompting ongoing discussions and debates on social media platforms like Twitter. With the proliferation of climate-related content online, distinguishing between different perspectives and attitudes towards climate change is crucial for understanding public sentiment and informing policy decisions.\n",
    "\n",
    "Twitter serves as a valuable source of real-time data reflecting diverse viewpoints on climate change, ranging from support for climate action to skepticism or denial of its existence. By leveraging machine learning techniques, this project aims to analyze and classify tweet sentiments to discern whether individuals express belief or disbelief in climate change.\n",
    "\n",
    "In this dynamic digital landscape, the ability to accurately classify tweet sentiments offers valuable insights into public perceptions and attitudes towards climate change. By building and comparing machine learning models, this project seeks to enhance our understanding of the nuanced discourse surrounding climate change on social media platforms like Twitter."
   ]
  },
  {
   "cell_type": "markdown",
   "metadata": {},
   "source": [
    "### About Dataset\n",
    "\n",
    "The dataset aggregates tweets pertaining to climate change collected between *April 27, 2015*, and *February 21, 2018*. A total of **43,943 tweets** were annotated for sentiment analysis. Each tweet is independently labelled by three reviewers, and only tweets where all three reviewers agreed on the sentiment are included in the dataset.\n",
    "\n",
    "Each tweet is labelled with one of the following classes:\n",
    "\n",
    "* **2 (News):** The tweet links to factual news about climate change.\n",
    "* **1 (Pro):** The tweet supports the belief of man-made climate change.\n",
    "* **0 (Neutral):** The tweet neither supports nor refutes the belief of man-made climate change.\n",
    "* **-1 (Anti):** The tweet does not believe in man-made climate change.\n",
    "\n",
    "Moreover, the dataset includes three columns:\n",
    "\n",
    "**sentiment:** The sentiment label of the tweet.  \n",
    "**message:** The text content of the tweet.  \n",
    "**tweetid:** The unique identifier of the tweet."
   ]
  },
  {
   "cell_type": "markdown",
   "metadata": {},
   "source": [
    "### Project Objective\n",
    "\n",
    "The project objective is to build and compare machine learning models to classify whether a person believes in climate change based on novel tweet data. By leveraging the dataset collected as part of the Canada Foundation for Innovation JELF Grant, the aim is to develop robust classification algorithms that accurately distinguish between different perspectives on climate change expressed in tweets. The project seeks to evaluate the performance of various machine learning techniques and identify the most effective model for sentiment analysis of climate change-related tweets on Twitter."
   ]
  },
  {
   "cell_type": "markdown",
   "metadata": {},
   "source": [
    "## Import librairies and dataset"
   ]
  },
  {
   "cell_type": "code",
   "execution_count": 4,
   "metadata": {},
   "outputs": [
    {
     "name": "stderr",
     "output_type": "stream",
     "text": [
      "[nltk_data] Downloading package punkt to\n",
      "[nltk_data]     C:\\Users\\alice\\AppData\\Roaming\\nltk_data...\n",
      "[nltk_data]   Unzipping tokenizers\\punkt.zip.\n",
      "c:\\Users\\alice\\AppData\\Local\\Programs\\Python\\Python310\\lib\\site-packages\\tqdm\\auto.py:21: TqdmWarning: IProgress not found. Please update jupyter and ipywidgets. See https://ipywidgets.readthedocs.io/en/stable/user_install.html\n",
      "  from .autonotebook import tqdm as notebook_tqdm\n"
     ]
    }
   ],
   "source": [
    "import re\n",
    "import nltk\n",
    "nltk.download('punkt')\n",
    "import string\n",
    "\n",
    "import numpy as np\n",
    "import pandas as pd\n",
    "import matplotlib.pyplot as plt\n",
    "\n",
    "from tqdm.auto import tqdm"
   ]
  },
  {
   "cell_type": "markdown",
   "metadata": {},
   "source": [
    "We can first import the dataset and how it looks like."
   ]
  },
  {
   "cell_type": "code",
   "execution_count": 20,
   "metadata": {},
   "outputs": [],
   "source": [
    "df = pd.read_csv('twitter_sentiment_data.csv')"
   ]
  },
  {
   "cell_type": "markdown",
   "metadata": {},
   "source": [
    "## Data Cleansing "
   ]
  },
  {
   "cell_type": "markdown",
   "metadata": {},
   "source": [
    "Let's see how the dataset looks like using ```df.head(10)```."
   ]
  },
  {
   "cell_type": "code",
   "execution_count": 38,
   "metadata": {},
   "outputs": [
    {
     "data": {
      "text/html": [
       "<div>\n",
       "<style scoped>\n",
       "    .dataframe tbody tr th:only-of-type {\n",
       "        vertical-align: middle;\n",
       "    }\n",
       "\n",
       "    .dataframe tbody tr th {\n",
       "        vertical-align: top;\n",
       "    }\n",
       "\n",
       "    .dataframe thead th {\n",
       "        text-align: right;\n",
       "    }\n",
       "</style>\n",
       "<table border=\"1\" class=\"dataframe\">\n",
       "  <thead>\n",
       "    <tr style=\"text-align: right;\">\n",
       "      <th></th>\n",
       "      <th>sentiment</th>\n",
       "      <th>message</th>\n",
       "      <th>tweetid</th>\n",
       "    </tr>\n",
       "  </thead>\n",
       "  <tbody>\n",
       "    <tr>\n",
       "      <th>0</th>\n",
       "      <td>-1</td>\n",
       "      <td>@tiniebeany climate change is an interesting h...</td>\n",
       "      <td>792927353886371840</td>\n",
       "    </tr>\n",
       "    <tr>\n",
       "      <th>1</th>\n",
       "      <td>1</td>\n",
       "      <td>RT @NatGeoChannel: Watch #BeforeTheFlood right...</td>\n",
       "      <td>793124211518832641</td>\n",
       "    </tr>\n",
       "    <tr>\n",
       "      <th>2</th>\n",
       "      <td>1</td>\n",
       "      <td>Fabulous! Leonardo #DiCaprio's film on #climat...</td>\n",
       "      <td>793124402388832256</td>\n",
       "    </tr>\n",
       "    <tr>\n",
       "      <th>3</th>\n",
       "      <td>1</td>\n",
       "      <td>RT @Mick_Fanning: Just watched this amazing do...</td>\n",
       "      <td>793124635873275904</td>\n",
       "    </tr>\n",
       "    <tr>\n",
       "      <th>4</th>\n",
       "      <td>2</td>\n",
       "      <td>RT @cnalive: Pranita Biswasi, a Lutheran from ...</td>\n",
       "      <td>793125156185137153</td>\n",
       "    </tr>\n",
       "    <tr>\n",
       "      <th>5</th>\n",
       "      <td>0</td>\n",
       "      <td>Unamshow awache kujinga na iko global warming ...</td>\n",
       "      <td>793125429418815489</td>\n",
       "    </tr>\n",
       "    <tr>\n",
       "      <th>6</th>\n",
       "      <td>2</td>\n",
       "      <td>RT @cnalive: Pranita Biswasi, a Lutheran from ...</td>\n",
       "      <td>793125430236684289</td>\n",
       "    </tr>\n",
       "    <tr>\n",
       "      <th>7</th>\n",
       "      <td>2</td>\n",
       "      <td>RT @CCIRiviera: Presidential Candidate #Donald...</td>\n",
       "      <td>793126558688878592</td>\n",
       "    </tr>\n",
       "    <tr>\n",
       "      <th>8</th>\n",
       "      <td>0</td>\n",
       "      <td>RT @AmericanIndian8: Leonardo DiCaprio's clima...</td>\n",
       "      <td>793127097854197761</td>\n",
       "    </tr>\n",
       "    <tr>\n",
       "      <th>9</th>\n",
       "      <td>1</td>\n",
       "      <td>#BeforeTheFlood Watch #BeforeTheFlood right he...</td>\n",
       "      <td>793127346106753028</td>\n",
       "    </tr>\n",
       "  </tbody>\n",
       "</table>\n",
       "</div>"
      ],
      "text/plain": [
       "   sentiment                                            message  \\\n",
       "0         -1  @tiniebeany climate change is an interesting h...   \n",
       "1          1  RT @NatGeoChannel: Watch #BeforeTheFlood right...   \n",
       "2          1  Fabulous! Leonardo #DiCaprio's film on #climat...   \n",
       "3          1  RT @Mick_Fanning: Just watched this amazing do...   \n",
       "4          2  RT @cnalive: Pranita Biswasi, a Lutheran from ...   \n",
       "5          0  Unamshow awache kujinga na iko global warming ...   \n",
       "6          2  RT @cnalive: Pranita Biswasi, a Lutheran from ...   \n",
       "7          2  RT @CCIRiviera: Presidential Candidate #Donald...   \n",
       "8          0  RT @AmericanIndian8: Leonardo DiCaprio's clima...   \n",
       "9          1  #BeforeTheFlood Watch #BeforeTheFlood right he...   \n",
       "\n",
       "              tweetid  \n",
       "0  792927353886371840  \n",
       "1  793124211518832641  \n",
       "2  793124402388832256  \n",
       "3  793124635873275904  \n",
       "4  793125156185137153  \n",
       "5  793125429418815489  \n",
       "6  793125430236684289  \n",
       "7  793126558688878592  \n",
       "8  793127097854197761  \n",
       "9  793127346106753028  "
      ]
     },
     "execution_count": 38,
     "metadata": {},
     "output_type": "execute_result"
    }
   ],
   "source": [
    "df.head(10)"
   ]
  },
  {
   "cell_type": "markdown",
   "metadata": {},
   "source": [
    "Then we can also have some information about the dataset by calling ```df.info```, such as ncol, nrow, nbr missing values, dtypes."
   ]
  },
  {
   "cell_type": "code",
   "execution_count": 10,
   "metadata": {},
   "outputs": [
    {
     "name": "stdout",
     "output_type": "stream",
     "text": [
      "<class 'pandas.core.frame.DataFrame'>\n",
      "RangeIndex: 43943 entries, 0 to 43942\n",
      "Data columns (total 3 columns):\n",
      " #   Column     Non-Null Count  Dtype \n",
      "---  ------     --------------  ----- \n",
      " 0   sentiment  43943 non-null  int64 \n",
      " 1   message    43943 non-null  object\n",
      " 2   tweetid    43943 non-null  int64 \n",
      "dtypes: int64(2), object(1)\n",
      "memory usage: 1.0+ MB\n"
     ]
    }
   ],
   "source": [
    "# Get general information on the dataset (ncol, nrow, nbr missing values, dtypes)\n",
    "df.info()"
   ]
  },
  {
   "cell_type": "markdown",
   "metadata": {},
   "source": [
    "Let's see now if there are some nan values and duplicates. "
   ]
  },
  {
   "cell_type": "code",
   "execution_count": 17,
   "metadata": {},
   "outputs": [
    {
     "data": {
      "text/plain": [
       "sentiment    0\n",
       "message      0\n",
       "tweetid      0\n",
       "dtype: int64"
      ]
     },
     "execution_count": 17,
     "metadata": {},
     "output_type": "execute_result"
    }
   ],
   "source": [
    "pd.isnull(df).sum()"
   ]
  },
  {
   "cell_type": "code",
   "execution_count": 18,
   "metadata": {},
   "outputs": [
    {
     "data": {
      "text/plain": [
       "0"
      ]
     },
     "execution_count": 18,
     "metadata": {},
     "output_type": "execute_result"
    }
   ],
   "source": [
    "df.duplicated().sum()"
   ]
  },
  {
   "cell_type": "markdown",
   "metadata": {},
   "source": [
    "The dataset is clean! There is no null value and no duplicate. We can now move on to the preprocessing part. "
   ]
  },
  {
   "cell_type": "markdown",
   "metadata": {},
   "source": [
    "## Preprocessing"
   ]
  },
  {
   "cell_type": "code",
   "execution_count": 40,
   "metadata": {},
   "outputs": [
    {
     "data": {
      "text/html": [
       "<div>\n",
       "<style scoped>\n",
       "    .dataframe tbody tr th:only-of-type {\n",
       "        vertical-align: middle;\n",
       "    }\n",
       "\n",
       "    .dataframe tbody tr th {\n",
       "        vertical-align: top;\n",
       "    }\n",
       "\n",
       "    .dataframe thead th {\n",
       "        text-align: right;\n",
       "    }\n",
       "</style>\n",
       "<table border=\"1\" class=\"dataframe\">\n",
       "  <thead>\n",
       "    <tr style=\"text-align: right;\">\n",
       "      <th></th>\n",
       "      <th>sentiment</th>\n",
       "      <th>message</th>\n",
       "      <th>tweetid</th>\n",
       "    </tr>\n",
       "  </thead>\n",
       "  <tbody>\n",
       "    <tr>\n",
       "      <th>10054</th>\n",
       "      <td>0</td>\n",
       "      <td>RT @Martin1Williams: Santa discovers undeniabl...</td>\n",
       "      <td>812447770023841792</td>\n",
       "    </tr>\n",
       "    <tr>\n",
       "      <th>17305</th>\n",
       "      <td>2</td>\n",
       "      <td>RT @UNEP: READ: Greening wood energy is key to...</td>\n",
       "      <td>845685218023485440</td>\n",
       "    </tr>\n",
       "    <tr>\n",
       "      <th>17382</th>\n",
       "      <td>1</td>\n",
       "      <td>Perfect for any backyard, our residential sola...</td>\n",
       "      <td>845988798555193344</td>\n",
       "    </tr>\n",
       "    <tr>\n",
       "      <th>41733</th>\n",
       "      <td>0</td>\n",
       "      <td>RT @ErrolNazareth: Yep. And donating to @redcr...</td>\n",
       "      <td>727703498679324672</td>\n",
       "    </tr>\n",
       "    <tr>\n",
       "      <th>18224</th>\n",
       "      <td>1</td>\n",
       "      <td>RT @MikeBloomberg: Don't let anyone tell you t...</td>\n",
       "      <td>847767233677803520</td>\n",
       "    </tr>\n",
       "    <tr>\n",
       "      <th>35985</th>\n",
       "      <td>-1</td>\n",
       "      <td>@cathmckenna As a meteorologist I can tell you...</td>\n",
       "      <td>959513301255409664</td>\n",
       "    </tr>\n",
       "    <tr>\n",
       "      <th>27399</th>\n",
       "      <td>1</td>\n",
       "      <td>The 3% of scientific papers that deny climate ...</td>\n",
       "      <td>911680869383000064</td>\n",
       "    </tr>\n",
       "    <tr>\n",
       "      <th>6354</th>\n",
       "      <td>1</td>\n",
       "      <td>RT @kurteichenwald: China is now explaining th...</td>\n",
       "      <td>799128194960019456</td>\n",
       "    </tr>\n",
       "    <tr>\n",
       "      <th>35017</th>\n",
       "      <td>1</td>\n",
       "      <td>RT @_sadistt: Everyone needs to stop moving to...</td>\n",
       "      <td>956960183313367042</td>\n",
       "    </tr>\n",
       "    <tr>\n",
       "      <th>23408</th>\n",
       "      <td>1</td>\n",
       "      <td>RT @SpiloveD: Heat index will likely reach 105...</td>\n",
       "      <td>877497836014886912</td>\n",
       "    </tr>\n",
       "  </tbody>\n",
       "</table>\n",
       "</div>"
      ],
      "text/plain": [
       "       sentiment                                            message  \\\n",
       "10054          0  RT @Martin1Williams: Santa discovers undeniabl...   \n",
       "17305          2  RT @UNEP: READ: Greening wood energy is key to...   \n",
       "17382          1  Perfect for any backyard, our residential sola...   \n",
       "41733          0  RT @ErrolNazareth: Yep. And donating to @redcr...   \n",
       "18224          1  RT @MikeBloomberg: Don't let anyone tell you t...   \n",
       "35985         -1  @cathmckenna As a meteorologist I can tell you...   \n",
       "27399          1  The 3% of scientific papers that deny climate ...   \n",
       "6354           1  RT @kurteichenwald: China is now explaining th...   \n",
       "35017          1  RT @_sadistt: Everyone needs to stop moving to...   \n",
       "23408          1  RT @SpiloveD: Heat index will likely reach 105...   \n",
       "\n",
       "                  tweetid  \n",
       "10054  812447770023841792  \n",
       "17305  845685218023485440  \n",
       "17382  845988798555193344  \n",
       "41733  727703498679324672  \n",
       "18224  847767233677803520  \n",
       "35985  959513301255409664  \n",
       "27399  911680869383000064  \n",
       "6354   799128194960019456  \n",
       "35017  956960183313367042  \n",
       "23408  877497836014886912  "
      ]
     },
     "execution_count": 40,
     "metadata": {},
     "output_type": "execute_result"
    }
   ],
   "source": [
    "df.sample(10)"
   ]
  },
  {
   "cell_type": "markdown",
   "metadata": {},
   "source": [
    "Looking at a sample of 10 rows of the data we can observe and make the following assumptions:\n",
    "\n",
    "* Some tweets contain twitter handles (e.g @IEA), numbers (e.g year 1995), hashtags (e.g #BeforeTheFlood) and re-tweets (RT).\n",
    "* Some tweets contain names of ogarnisations, continents and countries.\n",
    "* New lines are represented by '\\n' in the tweet string.\n",
    "* The tweets may contain URLs.\n",
    "* The tweets may contain percetages, money symbols and emoticons.\n",
    "\n",
    "Let's check that."
   ]
  },
  {
   "cell_type": "code",
   "execution_count": 41,
   "metadata": {},
   "outputs": [
    {
     "name": "stdout",
     "output_type": "stream",
     "text": [
      "25956\n",
      "3966\n"
     ]
    }
   ],
   "source": [
    "print(df['message'].str.contains('http').sum())\n",
    "print(df['message'].str.contains('\\n').sum())"
   ]
  }
 ],
 "metadata": {
  "kernelspec": {
   "display_name": "Python 3",
   "language": "python",
   "name": "python3"
  },
  "language_info": {
   "codemirror_mode": {
    "name": "ipython",
    "version": 3
   },
   "file_extension": ".py",
   "mimetype": "text/x-python",
   "name": "python",
   "nbconvert_exporter": "python",
   "pygments_lexer": "ipython3",
   "version": "3.10.5"
  }
 },
 "nbformat": 4,
 "nbformat_minor": 2
}
