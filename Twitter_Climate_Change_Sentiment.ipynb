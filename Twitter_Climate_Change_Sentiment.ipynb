{
 "cells": [
  {
   "cell_type": "markdown",
   "metadata": {},
   "source": [
    "# Twitter Climate Change Sentiment Analysis\n",
    "\n",
    "This project focuses on the sentiment analysis of tweets related to climate change. The dataset used for this analysis was collected as part of a project funded by a Canada Foundation for Innovation JELF Grant awarded to Chris Bauch at the University of Waterloo."
   ]
  },
  {
   "cell_type": "markdown",
   "metadata": {},
   "source": [
    "whether or not a person believes in climate change, based on their novel tweet data."
   ]
  },
  {
   "cell_type": "code",
   "execution_count": null,
   "metadata": {},
   "outputs": [],
   "source": []
  }
 ],
 "metadata": {
  "language_info": {
   "name": "python"
  }
 },
 "nbformat": 4,
 "nbformat_minor": 2
}
